{
 "cells": [
  {
   "cell_type": "code",
   "execution_count": 22,
   "outputs": [
    {
     "name": "stdout",
     "output_type": "stream",
     "text": [
      "<class 'pandas.core.frame.DataFrame'>\n",
      "RangeIndex: 891 entries, 0 to 890\n",
      "Data columns (total 12 columns):\n",
      " #   Column       Non-Null Count  Dtype  \n",
      "---  ------       --------------  -----  \n",
      " 0   PassengerId  891 non-null    int64  \n",
      " 1   Survived     891 non-null    int64  \n",
      " 2   Pclass       891 non-null    int64  \n",
      " 3   Name         891 non-null    object \n",
      " 4   Sex          891 non-null    object \n",
      " 5   Age          714 non-null    float64\n",
      " 6   SibSp        891 non-null    int64  \n",
      " 7   Parch        891 non-null    int64  \n",
      " 8   Ticket       891 non-null    object \n",
      " 9   Fare         891 non-null    float64\n",
      " 10  Cabin        204 non-null    object \n",
      " 11  Embarked     889 non-null    object \n",
      "dtypes: float64(2), int64(5), object(5)\n",
      "memory usage: 83.7+ KB\n",
      "None\n",
      "       PassengerId    Survived      Pclass         Age       SibSp  \\\n",
      "count   891.000000  891.000000  891.000000  714.000000  891.000000   \n",
      "mean    446.000000    0.383838    2.308642   29.699118    0.523008   \n",
      "std     257.353842    0.486592    0.836071   14.526497    1.102743   \n",
      "min       1.000000    0.000000    1.000000    0.420000    0.000000   \n",
      "25%     223.500000    0.000000    2.000000   20.125000    0.000000   \n",
      "50%     446.000000    0.000000    3.000000   28.000000    0.000000   \n",
      "75%     668.500000    1.000000    3.000000   38.000000    1.000000   \n",
      "max     891.000000    1.000000    3.000000   80.000000    8.000000   \n",
      "\n",
      "            Parch        Fare  \n",
      "count  891.000000  891.000000  \n",
      "mean     0.381594   32.204208  \n",
      "std      0.806057   49.693429  \n",
      "min      0.000000    0.000000  \n",
      "25%      0.000000    7.910400  \n",
      "50%      0.000000   14.454200  \n",
      "75%      0.000000   31.000000  \n",
      "max      6.000000  512.329200  \n"
     ]
    }
   ],
   "source": [
    "import pandas as pd\n",
    "\n",
    "# 加载数据： 读取训练集和测试集数据。\n",
    "train_data = pd.read_csv('titanic/train.csv')\n",
    "test_data = pd.read_csv('titanic/test.csv')\n",
    "# 数据探索： 对数据进行初步的探索，查看数据的结构、缺失值和统计信息。\n",
    "print(train_data.info())\n",
    "print(train_data.describe())"
   ],
   "metadata": {
    "collapsed": false,
    "ExecuteTime": {
     "end_time": "2024-01-05T10:55:28.738085700Z",
     "start_time": "2024-01-05T10:55:28.671090Z"
    }
   },
   "id": "bdc12d6010226585"
  },
  {
   "cell_type": "code",
   "execution_count": 23,
   "outputs": [
    {
     "name": "stdout",
     "output_type": "stream",
     "text": [
      "train_data:\n",
      "PassengerId      0\n",
      "Survived         0\n",
      "Pclass           0\n",
      "Name             0\n",
      "Sex              0\n",
      "Age            177\n",
      "SibSp            0\n",
      "Parch            0\n",
      "Ticket           0\n",
      "Fare             0\n",
      "Cabin          687\n",
      "Embarked         2\n",
      "dtype: int64\n",
      "\n",
      "test_data:\n",
      "PassengerId      0\n",
      "Pclass           0\n",
      "Name             0\n",
      "Sex              0\n",
      "Age             86\n",
      "SibSp            0\n",
      "Parch            0\n",
      "Ticket           0\n",
      "Fare             1\n",
      "Cabin          327\n",
      "Embarked         0\n",
      "dtype: int64\n"
     ]
    }
   ],
   "source": [
    "print(\"train_data:\")\n",
    "print(train_data.isnull().sum())\n",
    "print(\"\\ntest_data:\")\n",
    "print(test_data.isnull().sum())"
   ],
   "metadata": {
    "collapsed": false,
    "ExecuteTime": {
     "end_time": "2024-01-05T10:55:28.738085700Z",
     "start_time": "2024-01-05T10:55:28.704998600Z"
    }
   },
   "id": "964d8970b1a344e9"
  },
  {
   "cell_type": "code",
   "execution_count": 24,
   "outputs": [
    {
     "name": "stdout",
     "output_type": "stream",
     "text": [
      "train_data:\n",
      "PassengerId      0\n",
      "Survived         0\n",
      "Pclass           0\n",
      "Name             0\n",
      "Sex              0\n",
      "Age              0\n",
      "SibSp            0\n",
      "Parch            0\n",
      "Ticket           0\n",
      "Fare             0\n",
      "Cabin          687\n",
      "Embarked         0\n",
      "dtype: int64\n"
     ]
    }
   ],
   "source": [
    "# 利用随机森林算法，借助其他属性值，来预测缺失数据值。\n",
    "from sklearn.ensemble import RandomForestRegressor\n",
    "\n",
    "def set_missing_age(df):\n",
    "    # 把数值类型特征取出来，放入随机森林中进行训练\n",
    "    age_df = df[['Age','Fare','Parch','SibSp','Pclass']]\n",
    "    # 乘客分成已知年龄和未知年龄两个部分\n",
    "    known_age = age_df[age_df.Age.notnull()].values\n",
    "    unknown_age = age_df[age_df.Age.isnull()].values\n",
    "    # 目标数据y\n",
    "    y = known_age[:,0]\n",
    "    # 特征属性数据x\n",
    "    x = known_age[:,1:]\n",
    "    # 利用随机森林进行拟合\n",
    "    rfr = RandomForestRegressor(random_state=0,n_estimators=2000,n_jobs=-1)\n",
    "    rfr.fit(x,y)\n",
    "    # 利用训练的模型进行预测\n",
    "    predictedAges = rfr.predict(unknown_age[:,1::])\n",
    "    # 填补缺失的原始数据\n",
    "    df.loc[(df.Age.isnull()),'Age'] = predictedAges\n",
    "    return df\n",
    "\n",
    "# 登陆港口属性缺失值仅有两条记录，数据量小，我们直接删除这两条记录。\n",
    "def set_missing_embarked(df):\n",
    "    return df.drop(df[df.Embarked.isnull()].index)\n",
    "\n",
    "\n",
    "# 年龄缺失值填充\n",
    "train_data = set_missing_age(train_data)\n",
    "# print(train_data.head())\n",
    "# train_data = set_missing_embarked(train_data)\n",
    "data = set_missing_embarked(train_data)\n",
    "train_data = set_missing_embarked(train_data)\n",
    "print(\"train_data:\")\n",
    "# print(data.head())\n",
    "print(train_data.isnull().sum())"
   ],
   "metadata": {
    "collapsed": false,
    "ExecuteTime": {
     "end_time": "2024-01-05T10:55:30.664162400Z",
     "start_time": "2024-01-05T10:55:28.718032900Z"
    }
   },
   "id": "f3ad2838e4a89912"
  },
  {
   "cell_type": "code",
   "execution_count": 25,
   "outputs": [
    {
     "name": "stdout",
     "output_type": "stream",
     "text": [
      "test_data:\n",
      "PassengerId      0\n",
      "Pclass           0\n",
      "Name             0\n",
      "Sex              0\n",
      "Age              0\n",
      "SibSp            0\n",
      "Parch            0\n",
      "Ticket           0\n",
      "Fare             0\n",
      "Cabin          327\n",
      "Embarked         0\n",
      "dtype: int64\n"
     ]
    }
   ],
   "source": [
    "# 将 'Fare' 列中的缺失值填充为0\n",
    "test_data['Fare'].fillna(0, inplace=True)\n",
    "test_data = set_missing_age(test_data)\n",
    "print(\"test_data:\")\n",
    "print(test_data.isnull().sum())"
   ],
   "metadata": {
    "collapsed": false,
    "ExecuteTime": {
     "end_time": "2024-01-05T10:55:32.371374400Z",
     "start_time": "2024-01-05T10:55:30.665164500Z"
    }
   },
   "id": "7ff39166924893b7"
  },
  {
   "cell_type": "code",
   "execution_count": 26,
   "outputs": [
    {
     "name": "stdout",
     "output_type": "stream",
     "text": [
      "data:\n",
      "   PassengerId  Survived                                               Name  \\\n",
      "0            1         0                            Braund, Mr. Owen Harris   \n",
      "1            2         1  Cumings, Mrs. John Bradley (Florence Briggs Th...   \n",
      "2            3         1                             Heikkinen, Miss. Laina   \n",
      "3            4         1       Futrelle, Mrs. Jacques Heath (Lily May Peel)   \n",
      "4            5         0                           Allen, Mr. William Henry   \n",
      "\n",
      "    Age  SibSp  Parch            Ticket     Fare Cabin  Embarked_C  \\\n",
      "0  22.0      1      0         A/5 21171   7.2500   NaN           0   \n",
      "1  38.0      1      0          PC 17599  71.2833   C85           1   \n",
      "2  26.0      0      0  STON/O2. 3101282   7.9250   NaN           0   \n",
      "3  35.0      1      0            113803  53.1000  C123           0   \n",
      "4  35.0      0      0            373450   8.0500   NaN           0   \n",
      "\n",
      "   Embarked_Q  Embarked_S  Sex_female  Sex_male  Pclass_1  Pclass_2  Pclass_3  \\\n",
      "0           0           1           0         1         0         0         1   \n",
      "1           0           0           1         0         1         0         0   \n",
      "2           0           1           1         0         0         0         1   \n",
      "3           0           1           1         0         1         0         0   \n",
      "4           0           1           0         1         0         0         1   \n",
      "\n",
      "   Age_scaled  Fare_scaled  \n",
      "0   -0.559284    -0.500240  \n",
      "1    0.617935     0.788947  \n",
      "2   -0.264979    -0.486650  \n",
      "3    0.397207     0.422861  \n",
      "4    0.397207    -0.484133  \n",
      "train_data:\n",
      "   PassengerId  Survived                                               Name  \\\n",
      "0            1         0                            Braund, Mr. Owen Harris   \n",
      "1            2         1  Cumings, Mrs. John Bradley (Florence Briggs Th...   \n",
      "2            3         1                             Heikkinen, Miss. Laina   \n",
      "3            4         1       Futrelle, Mrs. Jacques Heath (Lily May Peel)   \n",
      "4            5         0                           Allen, Mr. William Henry   \n",
      "\n",
      "    Age  SibSp  Parch            Ticket     Fare Cabin  Embarked_C  \\\n",
      "0  22.0      1      0         A/5 21171   7.2500   NaN           0   \n",
      "1  38.0      1      0          PC 17599  71.2833   C85           1   \n",
      "2  26.0      0      0  STON/O2. 3101282   7.9250   NaN           0   \n",
      "3  35.0      1      0            113803  53.1000  C123           0   \n",
      "4  35.0      0      0            373450   8.0500   NaN           0   \n",
      "\n",
      "   Embarked_Q  Embarked_S  Sex_female  Sex_male  Pclass_1  Pclass_2  Pclass_3  \\\n",
      "0           0           1           0         1         0         0         1   \n",
      "1           0           0           1         0         1         0         0   \n",
      "2           0           1           1         0         0         0         1   \n",
      "3           0           1           1         0         1         0         0   \n",
      "4           0           1           0         1         0         0         1   \n",
      "\n",
      "   Age_scaled  Fare_scaled  \n",
      "0   -0.559284    -0.500240  \n",
      "1    0.617935     0.788947  \n",
      "2   -0.264979    -0.486650  \n",
      "3    0.397207     0.422861  \n",
      "4    0.397207    -0.484133  \n",
      "test_data:\n",
      "   PassengerId                                          Name   Age  SibSp  \\\n",
      "0          892                              Kelly, Mr. James  34.5      0   \n",
      "1          893              Wilkes, Mrs. James (Ellen Needs)  47.0      1   \n",
      "2          894                     Myles, Mr. Thomas Francis  62.0      0   \n",
      "3          895                              Wirz, Mr. Albert  27.0      0   \n",
      "4          896  Hirvonen, Mrs. Alexander (Helga E Lindqvist)  22.0      1   \n",
      "\n",
      "   Parch   Ticket     Fare Cabin  Embarked_C  Embarked_Q  Embarked_S  \\\n",
      "0      0   330911   7.8292   NaN           0           1           0   \n",
      "1      0   363272   7.0000   NaN           0           0           1   \n",
      "2      0   240276   9.6875   NaN           0           1           0   \n",
      "3      0   315154   8.6625   NaN           0           0           1   \n",
      "4      1  3101298  12.2875   NaN           0           0           1   \n",
      "\n",
      "   Sex_female  Sex_male  Pclass_1  Pclass_2  Pclass_3  Age_scaled  Fare_scaled  \n",
      "0           0         1         0         0         1    0.367102    -0.496637  \n",
      "1           1         0         0         0         1    1.331237    -0.511497  \n",
      "2           0         1         0         1         0    2.488198    -0.463335  \n",
      "3           0         1         0         0         1   -0.211379    -0.481704  \n",
      "4           1         0         0         0         1   -0.597033    -0.416740  \n"
     ]
    }
   ],
   "source": [
    "# 因为最终的预测是二分类问题，所以我们初步选择逻辑回归模型进行预测，我们需要对属性中类别型的数据做因子化处理，而票价属性则相应的需要做归一化处理。\n",
    "import sklearn.preprocessing as preprocessing\n",
    "# 特征因子化\n",
    "def set_numeralization(data):\n",
    "    # 针对定类性属性进行因子化，分别有Embarked,Sex,Pclass\n",
    "    dummies_Embarked = pd.get_dummies(data['Embarked'], prefix='Embarked')\n",
    "    dummies_Embarked = dummies_Embarked.astype(int)\n",
    "    dummies_Sex = pd.get_dummies(data['Sex'], prefix='Sex')\n",
    "    dummies_Sex = dummies_Sex.astype(int)\n",
    "    dummies_Pclass = pd.get_dummies(data['Pclass'], prefix='Pclass')\n",
    "    dummies_Pclass = dummies_Pclass.astype(int)\n",
    "\n",
    "    # 将新的属性拼合\n",
    "    df = pd.concat([data, dummies_Embarked, dummies_Sex, dummies_Pclass], axis=1)\n",
    "    # 将旧的属性剔除\n",
    "    df.drop(['Pclass', 'Sex', 'Embarked'], axis=1, inplace=True)\n",
    "    return df\n",
    "\n",
    "# 特征归一化\n",
    "def set_normalization(df):\n",
    "    scaler = preprocessing.StandardScaler()\n",
    "    age_scale_param = scaler.fit(df['Age'].values.reshape(-1,1))\n",
    "    df['Age_scaled'] = scaler.fit_transform(df['Age'].values.reshape(-1,1),age_scale_param)\n",
    "    fare_scale_param = scaler.fit(df['Fare'].values.reshape(-1,1))\n",
    "    df['Fare_scaled'] = scaler.fit_transform(df['Fare'].values.reshape(-1,1),fare_scale_param)\n",
    "    return df\n",
    "\n",
    "# 特征工程\n",
    "data = set_numeralization(data)\n",
    "data = set_normalization(data)\n",
    "print(\"data:\")\n",
    "print(data.head())\n",
    "origin_train_data = train_data\n",
    "train_data = set_numeralization(train_data)\n",
    "train_data = set_normalization(train_data)\n",
    "print(\"train_data:\")\n",
    "print(train_data.head())\n",
    "test_data = set_numeralization(test_data)\n",
    "test_data = set_normalization(test_data)\n",
    "print(\"test_data:\")\n",
    "print(test_data.head())"
   ],
   "metadata": {
    "collapsed": false,
    "ExecuteTime": {
     "end_time": "2024-01-05T10:55:32.430845300Z",
     "start_time": "2024-01-05T10:55:32.375384800Z"
    }
   },
   "id": "96bee19376cedce7"
  },
  {
   "cell_type": "code",
   "execution_count": 27,
   "outputs": [
    {
     "name": "stdout",
     "output_type": "stream",
     "text": [
      "   PassengerId  Survived\n",
      "0          892         0\n",
      "1          893         0\n",
      "2          894         0\n",
      "3          895         0\n",
      "4          896         1\n",
      "        columns                   coef\n",
      "0         SibSp   [-0.355431903199446]\n",
      "1         Parch   [-0.094202530409165]\n",
      "2    Embarked_C  [0.20430454979372842]\n",
      "3    Embarked_Q  [0.21577792957672398]\n",
      "4    Embarked_S  [-0.1959817085879947]\n",
      "5    Sex_female   [1.4268029315909248]\n",
      "6      Sex_male  [-1.2027021608084667]\n",
      "7      Pclass_1   [1.1355267510911224]\n",
      "8      Pclass_2   [0.1599259164631814]\n",
      "9      Pclass_3  [-1.0713518967718272]\n",
      "10   Age_scaled  [-0.5383879022697289]\n",
      "11  Fare_scaled   [0.1130476323940343]\n"
     ]
    },
    {
     "name": "stderr",
     "output_type": "stream",
     "text": [
      "D:\\Applications\\anaconda\\envs\\Titanic\\lib\\site-packages\\sklearn\\base.py:457: UserWarning: X has feature names, but LogisticRegression was fitted without feature names\n",
      "  warnings.warn(\n"
     ]
    }
   ],
   "source": [
    "import numpy as np\n",
    "from sklearn import linear_model\n",
    "\n",
    "# 利用正则表达式取出需要的属性\n",
    "# print(train_data.head())\n",
    "train_df = train_data.filter(regex='Survived|Age_.*|SibSp|Parch|Fare_.*|Embarked_.*|Sex_.*|Pclass_.*')\n",
    "# print(train_df.head())\n",
    "train_np = train_df.values\n",
    "\n",
    "test_df = test_data.filter(regex='Age_.*|SibSp|Parch|Fare_.*|Embarked_.*|Sex_.*|Pclass_.*')\n",
    "# print(test_df.head())\n",
    "\n",
    "# 获取y\n",
    "y = train_np[:,0]\n",
    "# 获取自变量x\n",
    "x = train_np[:,1:]\n",
    "\n",
    "# 利用逻辑回归进行拟合,得到训练的模型\n",
    "clf = linear_model.LogisticRegression(solver='liblinear',C=1.0,penalty='l2',tol=1e-6)\n",
    "clf.fit(x,y.astype('int'))\n",
    "\n",
    "# 对测试数据进行预测\n",
    "predictions = clf.predict(test_df)\n",
    "result = pd.DataFrame({'PassengerId':test_data['PassengerId'].values,'Survived':predictions.astype(np.int32)})\n",
    "print(result.head())\n",
    "\n",
    "# 模型中各属性的系数（用于分析各特征的贡献度）\n",
    "feature_corr = pd.DataFrame({'columns':list(train_df.columns)[1:],'coef':list(clf.coef_.T)})\n",
    "print(feature_corr)"
   ],
   "metadata": {
    "collapsed": false,
    "ExecuteTime": {
     "end_time": "2024-01-05T10:55:32.437926300Z",
     "start_time": "2024-01-05T10:55:32.401266100Z"
    }
   },
   "id": "43d9c255ae5586cc"
  },
  {
   "cell_type": "code",
   "execution_count": 28,
   "outputs": [
    {
     "name": "stdout",
     "output_type": "stream",
     "text": [
      "        columns      coef\n",
      "0         SibSp -0.355432\n",
      "1         Parch -0.094203\n",
      "2    Embarked_C  0.204305\n",
      "3    Embarked_Q  0.215778\n",
      "4    Embarked_S -0.195982\n",
      "5    Sex_female  1.426803\n",
      "6      Sex_male -1.202702\n",
      "7      Pclass_1  1.135527\n",
      "8      Pclass_2  0.159926\n",
      "9      Pclass_3 -1.071352\n",
      "10   Age_scaled -0.538388\n",
      "11  Fare_scaled  0.113048\n"
     ]
    }
   ],
   "source": [
    "feature_corr = pd.DataFrame({'columns': list(train_df.columns)[1:], 'coef': clf.coef_.flatten()})\n",
    "print(feature_corr)"
   ],
   "metadata": {
    "collapsed": false,
    "ExecuteTime": {
     "end_time": "2024-01-05T10:55:32.437926300Z",
     "start_time": "2024-01-05T10:55:32.415805700Z"
    }
   },
   "id": "dfb72767b8361e15"
  },
  {
   "cell_type": "code",
   "execution_count": 29,
   "outputs": [
    {
     "data": {
      "text/plain": "<Figure size 1200x800 with 1 Axes>",
      "image/png": "[encoded data removed]"
     },
     "metadata": {},
     "output_type": "display_data"
    }
   ],
   "source": [
    "import matplotlib\n",
    "import matplotlib.pyplot as plt\n",
    "import seaborn as sns\n",
    "\n",
    "# 排序feature_corr，以便更好地可视化\n",
    "feature_corr_sorted = feature_corr.sort_values(by='coef', ascending=False)\n",
    "\n",
    "# 创建条形图\n",
    "plt.figure(figsize=(12, 8))\n",
    "# print(type(feature_corr_sorted))\n",
    "sns.barplot(x='coef', y='columns', data=feature_corr_sorted)\n",
    "\n",
    "# 设置图形标题和标签\n",
    "plt.title('Feature Coefficients in Logistic Regression Model')\n",
    "plt.xlabel('Coefficient Value')\n",
    "plt.ylabel('Features')\n",
    "\n",
    "# 显示图形\n",
    "matplotlib.rcParams['axes.unicode_minus'] =False\n",
    "plt.show()"
   ],
   "metadata": {
    "collapsed": false,
    "ExecuteTime": {
     "end_time": "2024-01-05T10:55:32.591011400Z",
     "start_time": "2024-01-05T10:55:32.434881200Z"
    }
   },
   "id": "ddaf24c55349f96f"
  },
  {
   "cell_type": "code",
   "execution_count": 30,
   "outputs": [
    {
     "name": "stdout",
     "output_type": "stream",
     "text": [
      "<bound method NDFrame.head of      Survived  SibSp  Parch  Embarked_C  Embarked_Q  Embarked_S  Sex_female  \\\n",
      "0           0      1      0           0           0           1           0   \n",
      "1           1      1      0           1           0           0           1   \n",
      "2           1      0      0           0           0           1           1   \n",
      "3           1      1      0           0           0           1           1   \n",
      "4           0      0      0           0           0           1           0   \n",
      "..        ...    ...    ...         ...         ...         ...         ...   \n",
      "886         0      0      0           0           0           1           0   \n",
      "887         1      0      0           0           0           1           1   \n",
      "888         0      1      2           0           0           1           1   \n",
      "889         1      0      0           1           0           0           0   \n",
      "890         0      0      0           0           1           0           0   \n",
      "\n",
      "     Sex_male  Pclass_1  Pclass_2  Pclass_3  Age_scaled  Fare_scaled  \n",
      "0           1         0         0         1   -0.559284    -0.500240  \n",
      "1           0         1         0         0    0.617935     0.788947  \n",
      "2           0         0         0         1   -0.264979    -0.486650  \n",
      "3           0         1         0         0    0.397207     0.422861  \n",
      "4           1         0         0         1    0.397207    -0.484133  \n",
      "..        ...       ...       ...       ...         ...          ...  \n",
      "886         1         0         1         0   -0.191403    -0.384475  \n",
      "887         0         1         0         0   -0.780013    -0.042213  \n",
      "888         0         0         0         1   -0.987121    -0.174084  \n",
      "889         1         1         0         0   -0.264979    -0.042213  \n",
      "890         1         0         0         1    0.176478    -0.490173  \n",
      "\n",
      "[889 rows x 13 columns]>\n",
      "[0.78089888 0.80898876 0.78089888 0.7752809  0.83615819]\n",
      "0.7964451215641465\n"
     ]
    }
   ],
   "source": [
    "from sklearn.model_selection import cross_val_score\n",
    "train_df = train_data.filter(regex='Survived|Age_.*|SibSp|Parch|Fare_.*|Embarked_.*|Sex_.*|Pclass_.*')\n",
    "print(train_df.head)\n",
    "train_np = train_df.values\n",
    "# 获取y\n",
    "y = train_np[:, 0]\n",
    "# 获取自变量x\n",
    "x = train_np[:, 1:]\n",
    "\n",
    "# 利用逻辑回归进行拟合,得到训练的模型\n",
    "clf = linear_model.LogisticRegression(solver='liblinear', C=1.0, penalty='l2', tol=1e-6)\n",
    "clf.fit(x, y.astype('int'))\n",
    "\n",
    "# 交叉检验\n",
    "score = cross_val_score(clf, x, y.astype('int'), cv=5, scoring='accuracy')\n",
    "print(score)\n",
    "print(score.mean())"
   ],
   "metadata": {
    "collapsed": false,
    "ExecuteTime": {
     "end_time": "2024-01-05T10:55:32.694086900Z",
     "start_time": "2024-01-05T10:55:32.590008600Z"
    }
   },
   "id": "4b0ea5224b30706"
  },
  {
   "cell_type": "code",
   "execution_count": 40,
   "outputs": [
    {
     "name": "stdout",
     "output_type": "stream",
     "text": [
      "   Survived  Embarked_C  Embarked_Q  Embarked_S  Sex_female  Sex_male  \\\n",
      "0         0           0           0           1           0         1   \n",
      "1         1           1           0           0           1         0   \n",
      "2         1           0           0           1           1         0   \n",
      "3         1           0           0           1           1         0   \n",
      "4         0           0           0           1           0         1   \n",
      "\n",
      "   Pclass_1  Pclass_2  Pclass_3  Age_scaled  Fare_scaled  SibSp_0  SibSp_1  \\\n",
      "0         0         0         1    0.271174     0.014151        0        1   \n",
      "1         1         0         0    0.472229     0.139136        0        1   \n",
      "2         0         0         1    0.321438     0.015469        1        0   \n",
      "3         1         0         0    0.434531     0.103644        0        1   \n",
      "4         0         0         1    0.434531     0.015713        1        0   \n",
      "\n",
      "   SibSp_2  Parch_0  Parch_1  Parch_2  \n",
      "0        0        1        0        0  \n",
      "1        0        1        0        0  \n",
      "2        0        1        0        0  \n",
      "3        0        1        0        0  \n",
      "4        0        1        0        0  \n",
      "        columns                    coef\n",
      "0    Embarked_C   [0.10629099416307361]\n",
      "1    Embarked_Q   [0.17907683683894846]\n",
      "2    Embarked_S  [-0.25581428004515283]\n",
      "3    Sex_female    [1.2876696383170558]\n",
      "4      Sex_male    [-1.258116087360233]\n",
      "5      Pclass_1    [1.0061926511144608]\n",
      "6      Pclass_2   [0.04484426461697296]\n",
      "7      Pclass_3   [-1.0214833647745676]\n",
      "8    Age_scaled    [-2.100714432834248]\n",
      "9   Fare_scaled     [0.382774915897741]\n",
      "10      SibSp_0    [0.6126674653139049]\n",
      "11      SibSp_1    [0.6846228137247523]\n",
      "12      SibSp_2    [-1.267736728081792]\n",
      "13      Parch_0    [0.3145412622279244]\n",
      "14      Parch_1    [0.5952593921615627]\n",
      "15      Parch_2   [-0.8802471034326181]\n",
      "[0.79775281 0.81460674 0.79213483 0.80898876 0.8079096 ]\n",
      "0.8042785501174381\n"
     ]
    }
   ],
   "source": [
    "# 对于SibSp属性，我们划分成0,1~2，3~8三个等级\n",
    "data['SibSp_cut'] = 1\n",
    "data.loc[data['SibSp'] == 0, 'SibSp_cut'] = 0\n",
    "data.loc[data['SibSp'] >= 3, 'SibSp_cut'] = 2\n",
    "\n",
    "# 对于Parch属性，我们划分成0,1~3，4~6三个等级\n",
    "data['Parch_cut'] = 1\n",
    "data.loc[data['Parch'] == 0, 'Parch_cut'] = 0\n",
    "data.loc[data['Parch'] > 3, 'Parch_cut'] = 2\n",
    "\n",
    "# 因子化处理\n",
    "dummies_SibSp = pd.get_dummies(data['SibSp_cut'], prefix='SibSp')\n",
    "dummies_Parch = pd.get_dummies(data['Parch_cut'], prefix='Parch')\n",
    "data.drop(['SibSp_cut', 'Parch_cut'], axis=1, inplace=True)\n",
    "\n",
    "dummies_SibSp = dummies_SibSp.astype('int')\n",
    "dummies_Parch = dummies_Parch.astype('int')\n",
    "\n",
    "# 数据归一化\n",
    "# transfer = preprocessing.MinMaxScaler(feature_range=[0, 1])\n",
    "transfer = preprocessing.MinMaxScaler(feature_range=(0, 1))\n",
    "data['Age_scaled'] = transfer.fit_transform(data['Age'].values.reshape(-1, 1))\n",
    "data['Fare_scaled'] = transfer.fit_transform(data['Fare'].values.reshape(-1, 1))\n",
    "\n",
    "# 数据合并\n",
    "df = pd.concat([data, dummies_SibSp, dummies_Parch], axis=1)\n",
    "\n",
    "# 特征筛选\n",
    "train_data = df.filter(regex='Survived|Age_.*|SibSp_.*|Parch_.*|Fare_.*|Cabin_.*|Embarked_.*|Sex_.*|Pclass_.*')\n",
    "print(train_data.head())\n",
    "\n",
    "# 模型的交叉检验\n",
    "train_np = train_data.values\n",
    "# 获取y\n",
    "y = train_np[:, 0]\n",
    "# 获取自变量x\n",
    "x = train_np[:, 1:]\n",
    "\n",
    "# 利用逻辑回归进行拟合,得到训练的模型\n",
    "clf = linear_model.LogisticRegression(solver='liblinear', C=1.0, penalty='l2', tol=1e-6)\n",
    "clf.fit(x, y.astype('int'))\n",
    "\n",
    "feature_corr = pd.DataFrame({'columns': list(train_data.columns)[1:], 'coef': list(clf.coef_.T)})\n",
    "print(feature_corr)\n",
    "\n",
    "# 交叉检验\n",
    "score = cross_val_score(clf, x, y.astype('int'), cv=5, scoring='accuracy')\n",
    "print(score)\n",
    "print(score.mean())"
   ],
   "metadata": {
    "collapsed": false,
    "ExecuteTime": {
     "end_time": "2024-01-05T11:06:12.099483300Z",
     "start_time": "2024-01-05T11:06:12.057872600Z"
    }
   },
   "id": "e6bd867519fc2901"
  },
  {
   "cell_type": "code",
   "execution_count": 32,
   "outputs": [
    {
     "data": {
      "text/plain": "<Figure size 640x480 with 1 Axes>",
      "image/png": "[encoded data removed]"
     },
     "metadata": {},
     "output_type": "display_data"
    }
   ],
   "source": [
    "from sklearn.model_selection import learning_curve\n",
    "from pylab import mpl\n",
    "\n",
    "\n",
    "# 绘制学习曲线\n",
    "def plot_learning_curve(estimator, title, X, y, ylim=None, cv=None, n_jobs=1,\n",
    "                        train_sizes=np.linspace(.05, 1.0, 20), verbose=0, plot=True):\n",
    "    train_sizes, train_scores, test_scores = learning_curve(\n",
    "        estimator, X, y, cv=cv, n_jobs=n_jobs, train_sizes=train_sizes, verbose=verbose)\n",
    "\n",
    "    train_scores_mean = np.mean(train_scores, axis=1)\n",
    "    train_scores_std = np.std(train_scores, axis=1)\n",
    "    test_scores_mean = np.mean(test_scores, axis=1)\n",
    "    test_scores_std = np.std(test_scores, axis=1)\n",
    "\n",
    "    if plot:\n",
    "        mpl.rcParams[\"font.sans-serif\"] = [\"SimHei\"]\n",
    "        plt.figure()\n",
    "        plt.title(title)\n",
    "        if ylim is not None:\n",
    "            plt.ylim(*ylim)\n",
    "        plt.xlabel(u\"训练样本数\")\n",
    "        plt.ylabel(u\"得分\")\n",
    "        plt.gca().invert_yaxis()\n",
    "        plt.grid()\n",
    "\n",
    "        plt.fill_between(train_sizes, train_scores_mean - train_scores_std, train_scores_mean + train_scores_std,\n",
    "                         alpha=0.1, color=\"b\")\n",
    "        plt.fill_between(train_sizes, test_scores_mean - test_scores_std, test_scores_mean + test_scores_std,\n",
    "                         alpha=0.1, color=\"r\")\n",
    "        plt.plot(train_sizes, train_scores_mean, 'o-', color=\"b\", label=u\"训练集上得分\")\n",
    "        plt.plot(train_sizes, test_scores_mean, 'o-', color=\"r\", label=u\"交叉验证集上得分\")\n",
    "\n",
    "        plt.legend(loc=\"best\")\n",
    "\n",
    "        plt.draw()\n",
    "        plt.gca().invert_yaxis()\n",
    "        plt.show()\n",
    "\n",
    "# train_np = data_train.values\n",
    "# 获取y\n",
    "y = train_np[:, 0]\n",
    "# 获取自变量x\n",
    "X = train_np[:, 1:]\n",
    "\n",
    "clf = linear_model.LogisticRegression(solver='liblinear', C=1.0, penalty='l2', tol=1e-6)\n",
    "clf.fit(X, y.astype('int'))\n",
    "plot_learning_curve(clf, u\"学习曲线\", X, y.astype('int'))"
   ],
   "metadata": {
    "collapsed": false,
    "ExecuteTime": {
     "end_time": "2024-01-05T10:55:32.984529300Z",
     "start_time": "2024-01-05T10:55:32.657184200Z"
    }
   },
   "id": "ab6e4a862e00cb27"
  },
  {
   "cell_type": "code",
   "execution_count": 33,
   "outputs": [
    {
     "name": "stdout",
     "output_type": "stream",
     "text": [
      "Random Forest Accuracy: 0.7752808988764045\n"
     ]
    }
   ],
   "source": [
    "from sklearn.ensemble import RandomForestClassifier\n",
    "from sklearn.model_selection import train_test_split\n",
    "from sklearn.metrics import accuracy_score\n",
    "\n",
    "# 划分训练集和验证集\n",
    "X_train, X_valid, y_train, y_valid = train_test_split(x, y.astype('int'), test_size=0.2, random_state=42)\n",
    "\n",
    "# 创建随机森林模型\n",
    "rf_model = RandomForestClassifier(n_estimators=100, random_state=42)\n",
    "\n",
    "# 拟合模型\n",
    "rf_model.fit(X_train, y_train)\n",
    "\n",
    "# 预测验证集\n",
    "rf_predictions = rf_model.predict(X_valid)\n",
    "\n",
    "# 计算准确率\n",
    "rf_accuracy = accuracy_score(y_valid, rf_predictions)\n",
    "print(\"Random Forest Accuracy:\", rf_accuracy)"
   ],
   "metadata": {
    "collapsed": false,
    "ExecuteTime": {
     "end_time": "2024-01-05T10:55:33.108356800Z",
     "start_time": "2024-01-05T10:55:32.981523500Z"
    }
   },
   "id": "4cd483ba2a225ba"
  },
  {
   "cell_type": "code",
   "execution_count": 34,
   "outputs": [
    {
     "name": "stdout",
     "output_type": "stream",
     "text": [
      "Cross-Validation Scores: [0.79213483 0.79213483 0.85393258 0.7752809  0.83615819]\n",
      "Mean Cross-Validation Score: 0.8099282676315622\n"
     ]
    }
   ],
   "source": [
    "from sklearn.model_selection import cross_val_score\n",
    "\n",
    "# 使用交叉验证计算准确率\n",
    "cross_val_scores = cross_val_score(rf_model, x, y.astype('int'), cv=5)\n",
    "print(\"Cross-Validation Scores:\", cross_val_scores)\n",
    "print(\"Mean Cross-Validation Score:\", cross_val_scores.mean())"
   ],
   "metadata": {
    "collapsed": false,
    "ExecuteTime": {
     "end_time": "2024-01-05T10:55:33.659617500Z",
     "start_time": "2024-01-05T10:55:33.109356500Z"
    }
   },
   "id": "3e2855cdbc2ad7d6"
  },
  {
   "cell_type": "code",
   "execution_count": 35,
   "outputs": [
    {
     "name": "stdout",
     "output_type": "stream",
     "text": [
      "Best Parameters: {'max_depth': 10, 'min_samples_leaf': 1, 'n_estimators': 200}\n"
     ]
    }
   ],
   "source": [
    "from sklearn.model_selection import GridSearchCV\n",
    "\n",
    "# 定义超参数的范围\n",
    "param_grid = {\n",
    "    'n_estimators': [50, 100, 200],\n",
    "    'max_depth': [None, 10, 20, 30],\n",
    "    'min_samples_leaf': [1, 2, 4]\n",
    "}\n",
    "\n",
    "# 创建随机森林模型\n",
    "rf_model = RandomForestClassifier(random_state=42)\n",
    "\n",
    "# 使用网格搜索进行调参\n",
    "grid_search = GridSearchCV(estimator=rf_model, param_grid=param_grid, cv=5)\n",
    "grid_search.fit(X_train, y_train)\n",
    "\n",
    "# 输出最佳超参数\n",
    "print(\"Best Parameters:\", grid_search.best_params_)"
   ],
   "metadata": {
    "collapsed": false,
    "ExecuteTime": {
     "end_time": "2024-01-05T10:55:53.169843300Z",
     "start_time": "2024-01-05T10:55:33.662733700Z"
    }
   },
   "id": "3ff7ffb8f0163f73"
  },
  {
   "cell_type": "code",
   "execution_count": 36,
   "outputs": [
    {
     "name": "stdout",
     "output_type": "stream",
     "text": [
      "Final Test Set Accuracy: 0.8202247191011236\n"
     ]
    }
   ],
   "source": [
    "# 使用最佳超参数创建最终的随机森林模型\n",
    "best_max_depth, best_min_samples_leaf, best_params_n_estimators = grid_search.best_params_['max_depth'], grid_search.best_params_['min_samples_leaf'], grid_search.best_params_['n_estimators']\n",
    "# print(type(grid_search.best_params_))\n",
    "# print(best_max_depth, best_min_samples_leaf)\n",
    "# 手动测试发现最大深度5优于上面算出来的最大深度10\n",
    "final_rf_model = RandomForestClassifier(n_estimators=best_params_n_estimators, max_depth=5, \n",
    "                                        min_samples_leaf=best_min_samples_leaf, random_state=42)\n",
    "# 拟合最终模型\n",
    "final_rf_model.fit(X_train, y_train)\n",
    "\n",
    "# 在测试集上进行预测\n",
    "final_predictions = final_rf_model.predict(X_valid)\n",
    "# 创建包含预测结果的 DataFrame\n",
    "# print(X_valid)\n",
    "# final_result = pd.DataFrame({'PassengerId': X_valid['PassengerId'].values, 'Survived': final_predictions.astype(np.int32)})\n",
    "# 输出前几行预测结果\n",
    "# print(final_result.head())\n",
    "# 计算测试集上的准确率\n",
    "final_accuracy = accuracy_score(y_valid, final_predictions)\n",
    "print(\"Final Test Set Accuracy:\", final_accuracy)"
   ],
   "metadata": {
    "collapsed": false,
    "ExecuteTime": {
     "end_time": "2024-01-05T10:55:53.345000900Z",
     "start_time": "2024-01-05T10:55:53.169843300Z"
    }
   },
   "id": "f05022aca1f62fb2"
  },
  {
   "cell_type": "code",
   "execution_count": 37,
   "outputs": [
    {
     "name": "stdout",
     "output_type": "stream",
     "text": [
      "SVM Accuracy: 0.797752808988764\n"
     ]
    }
   ],
   "source": [
    "import pandas as pd\n",
    "from sklearn.model_selection import train_test_split\n",
    "from sklearn.svm import SVC\n",
    "from sklearn.metrics import accuracy_score\n",
    "\n",
    "# # 假设选择 'Pclass', 'Age', 'SibSp', 'Sex', 'Fare' 作为特征\n",
    "# features = ['Pclass', 'Age', 'Fare', 'Sex', 'SibSp']\n",
    "# X = origin_train_data[features]\n",
    "# y = origin_train_data['Survived']\n",
    "\n",
    "\n",
    "train_df = train_data.filter(regex='Survived|Age_.*|SibSp|Parch|Fare_.*|Embarked_.*|Sex_.*|Pclass_.*')\n",
    "train_np = train_df.values\n",
    "# 获取y\n",
    "y = train_np[:,0].astype('int')\n",
    "# 获取自变量x\n",
    "x = train_np[:,1:]\n",
    "\n",
    "# 划分训练集和测试集\n",
    "X_train, X_test, y_train, y_test = train_test_split(x, y, test_size=0.2, random_state=42)\n",
    "# 创建支持向量机模型\n",
    "svm_model = SVC(kernel='linear', C=1, random_state=42)\n",
    "# 拟合模型\n",
    "svm_model.fit(X_train, y_train)\n",
    "# 预测测试集\n",
    "svm_predictions = svm_model.predict(X_test)\n",
    "# 计算准确率\n",
    "svm_accuracy = accuracy_score(y_test, svm_predictions)\n",
    "print(\"SVM Accuracy:\", svm_accuracy)"
   ],
   "metadata": {
    "collapsed": false,
    "ExecuteTime": {
     "end_time": "2024-01-05T10:55:53.389433900Z",
     "start_time": "2024-01-05T10:55:53.347006600Z"
    }
   },
   "id": "c01b2a16f7547f3b"
  },
  {
   "cell_type": "code",
   "execution_count": 38,
   "outputs": [
    {
     "name": "stdout",
     "output_type": "stream",
     "text": [
      "KNN Accuracy: 0.797752808988764\n"
     ]
    }
   ],
   "source": [
    "import pandas as pd\n",
    "from sklearn.model_selection import train_test_split\n",
    "from sklearn.neighbors import KNeighborsClassifier\n",
    "from sklearn.metrics import accuracy_score\n",
    "\n",
    "train_df = train_data.filter(regex='Survived|Age_.*|SibSp|Parch|Fare_.*|Embarked_.*|Sex_.*|Pclass_.*')\n",
    "train_np = train_df.values\n",
    "# 获取y\n",
    "y = train_np[:,0].astype('int')\n",
    "# 获取自变量x\n",
    "x = train_np[:,1:]\n",
    "\n",
    "# 划分训练集和测试集\n",
    "X_train, X_test, y_train, y_test = train_test_split(x, y, test_size=0.2, random_state=42)\n",
    "# 创建KNN模型\n",
    "knn_model = KNeighborsClassifier(n_neighbors=2)\n",
    "# 拟合模型\n",
    "knn_model.fit(X_train, y_train)\n",
    "# 预测测试集\n",
    "knn_predictions = knn_model.predict(X_test)\n",
    "# 计算准确率\n",
    "knn_accuracy = accuracy_score(y_test, knn_predictions)\n",
    "print(\"KNN Accuracy:\", knn_accuracy)"
   ],
   "metadata": {
    "collapsed": false,
    "ExecuteTime": {
     "end_time": "2024-01-05T10:55:53.450677400Z",
     "start_time": "2024-01-05T10:55:53.360042Z"
    }
   },
   "id": "185e7b07d5ea928a"
  },
  {
   "cell_type": "code",
   "execution_count": 41,
   "outputs": [
    {
     "name": "stdout",
     "output_type": "stream",
     "text": [
      "     Survived  Embarked_C  Embarked_Q  Embarked_S  Sex_female  Sex_male  \\\n",
      "0           0           0           0           1           0         1   \n",
      "1           1           1           0           0           1         0   \n",
      "2           1           0           0           1           1         0   \n",
      "3           1           0           0           1           1         0   \n",
      "4           0           0           0           1           0         1   \n",
      "..        ...         ...         ...         ...         ...       ...   \n",
      "886         0           0           0           1           0         1   \n",
      "887         1           0           0           1           1         0   \n",
      "888         0           0           0           1           1         0   \n",
      "889         1           1           0           0           0         1   \n",
      "890         0           0           1           0           0         1   \n",
      "\n",
      "     Pclass_1  Pclass_2  Pclass_3  Age_scaled  Fare_scaled  SibSp_0  SibSp_1  \\\n",
      "0           0         0         1    0.271174     0.014151        0        1   \n",
      "1           1         0         0    0.472229     0.139136        0        1   \n",
      "2           0         0         1    0.321438     0.015469        1        0   \n",
      "3           1         0         0    0.434531     0.103644        0        1   \n",
      "4           0         0         1    0.434531     0.015713        1        0   \n",
      "..        ...       ...       ...         ...          ...      ...      ...   \n",
      "886         0         1         0    0.334004     0.025374        1        0   \n",
      "887         1         0         0    0.233476     0.058556        1        0   \n",
      "888         0         0         1    0.198104     0.045771        0        1   \n",
      "889         1         0         0    0.321438     0.058556        1        0   \n",
      "890         0         0         1    0.396833     0.015127        1        0   \n",
      "\n",
      "     SibSp_2  Parch_0  Parch_1  Parch_2  \n",
      "0          0        1        0        0  \n",
      "1          0        1        0        0  \n",
      "2          0        1        0        0  \n",
      "3          0        1        0        0  \n",
      "4          0        1        0        0  \n",
      "..       ...      ...      ...      ...  \n",
      "886        0        1        0        0  \n",
      "887        0        1        0        0  \n",
      "888        0        0        1        0  \n",
      "889        0        1        0        0  \n",
      "890        0        1        0        0  \n",
      "\n",
      "[889 rows x 17 columns]\n",
      "[[0. 0. 1. ... 1. 0. 0.]\n",
      " [1. 0. 0. ... 1. 0. 0.]\n",
      " [0. 0. 1. ... 1. 0. 0.]\n",
      " ...\n",
      " [0. 0. 1. ... 0. 1. 0.]\n",
      " [1. 0. 0. ... 1. 0. 0.]\n",
      " [0. 1. 0. ... 1. 0. 0.]]\n",
      "Epoch 1/50\n",
      "18/18 - 1s - loss: 0.6501 - accuracy: 0.6514 - val_loss: 0.6044 - val_accuracy: 0.7692 - 847ms/epoch - 47ms/step\n",
      "Epoch 2/50\n",
      "18/18 - 0s - loss: 0.5694 - accuracy: 0.7465 - val_loss: 0.5359 - val_accuracy: 0.7622 - 26ms/epoch - 1ms/step\n",
      "Epoch 3/50\n",
      "18/18 - 0s - loss: 0.5018 - accuracy: 0.7905 - val_loss: 0.4975 - val_accuracy: 0.8112 - 27ms/epoch - 2ms/step\n",
      "Epoch 4/50\n",
      "18/18 - 0s - loss: 0.4586 - accuracy: 0.8063 - val_loss: 0.4730 - val_accuracy: 0.8042 - 26ms/epoch - 1ms/step\n",
      "Epoch 5/50\n",
      "18/18 - 0s - loss: 0.4330 - accuracy: 0.8116 - val_loss: 0.4652 - val_accuracy: 0.7972 - 29ms/epoch - 2ms/step\n",
      "Epoch 6/50\n",
      "18/18 - 0s - loss: 0.4221 - accuracy: 0.8081 - val_loss: 0.4608 - val_accuracy: 0.7972 - 28ms/epoch - 2ms/step\n",
      "Epoch 7/50\n",
      "18/18 - 0s - loss: 0.4170 - accuracy: 0.8151 - val_loss: 0.4607 - val_accuracy: 0.7902 - 30ms/epoch - 2ms/step\n",
      "Epoch 8/50\n",
      "18/18 - 0s - loss: 0.4141 - accuracy: 0.8151 - val_loss: 0.4583 - val_accuracy: 0.7902 - 32ms/epoch - 2ms/step\n",
      "Epoch 9/50\n",
      "18/18 - 0s - loss: 0.4052 - accuracy: 0.8187 - val_loss: 0.4530 - val_accuracy: 0.8182 - 30ms/epoch - 2ms/step\n",
      "Epoch 10/50\n",
      "18/18 - 0s - loss: 0.4008 - accuracy: 0.8169 - val_loss: 0.4536 - val_accuracy: 0.7972 - 29ms/epoch - 2ms/step\n",
      "Epoch 11/50\n",
      "18/18 - 0s - loss: 0.3969 - accuracy: 0.8257 - val_loss: 0.4547 - val_accuracy: 0.7972 - 33ms/epoch - 2ms/step\n",
      "Epoch 12/50\n",
      "18/18 - 0s - loss: 0.3956 - accuracy: 0.8204 - val_loss: 0.4491 - val_accuracy: 0.8042 - 30ms/epoch - 2ms/step\n",
      "Epoch 13/50\n",
      "18/18 - 0s - loss: 0.3965 - accuracy: 0.8257 - val_loss: 0.4523 - val_accuracy: 0.8182 - 33ms/epoch - 2ms/step\n",
      "Epoch 14/50\n",
      "18/18 - 0s - loss: 0.3938 - accuracy: 0.8204 - val_loss: 0.4547 - val_accuracy: 0.8112 - 27ms/epoch - 1ms/step\n",
      "Epoch 15/50\n",
      "18/18 - 0s - loss: 0.3861 - accuracy: 0.8310 - val_loss: 0.4519 - val_accuracy: 0.8322 - 28ms/epoch - 2ms/step\n",
      "Epoch 16/50\n",
      "18/18 - 0s - loss: 0.3843 - accuracy: 0.8327 - val_loss: 0.4510 - val_accuracy: 0.8182 - 28ms/epoch - 2ms/step\n",
      "Epoch 17/50\n",
      "18/18 - 0s - loss: 0.3825 - accuracy: 0.8257 - val_loss: 0.4521 - val_accuracy: 0.7972 - 28ms/epoch - 2ms/step\n",
      "Epoch 18/50\n",
      "18/18 - 0s - loss: 0.3797 - accuracy: 0.8345 - val_loss: 0.4531 - val_accuracy: 0.8112 - 29ms/epoch - 2ms/step\n",
      "Epoch 19/50\n",
      "18/18 - 0s - loss: 0.3782 - accuracy: 0.8310 - val_loss: 0.4533 - val_accuracy: 0.8182 - 29ms/epoch - 2ms/step\n",
      "Epoch 20/50\n",
      "18/18 - 0s - loss: 0.3745 - accuracy: 0.8415 - val_loss: 0.4561 - val_accuracy: 0.8112 - 29ms/epoch - 2ms/step\n",
      "Epoch 21/50\n",
      "18/18 - 0s - loss: 0.3729 - accuracy: 0.8345 - val_loss: 0.4564 - val_accuracy: 0.8182 - 29ms/epoch - 2ms/step\n",
      "Epoch 22/50\n",
      "18/18 - 0s - loss: 0.3735 - accuracy: 0.8380 - val_loss: 0.4538 - val_accuracy: 0.8182 - 29ms/epoch - 2ms/step\n",
      "Epoch 23/50\n",
      "18/18 - 0s - loss: 0.3699 - accuracy: 0.8363 - val_loss: 0.4592 - val_accuracy: 0.8112 - 28ms/epoch - 2ms/step\n",
      "Epoch 24/50\n",
      "18/18 - 0s - loss: 0.3711 - accuracy: 0.8468 - val_loss: 0.4641 - val_accuracy: 0.8112 - 28ms/epoch - 2ms/step\n",
      "Epoch 25/50\n",
      "18/18 - 0s - loss: 0.3669 - accuracy: 0.8468 - val_loss: 0.4580 - val_accuracy: 0.8182 - 35ms/epoch - 2ms/step\n",
      "Epoch 26/50\n",
      "18/18 - 0s - loss: 0.3669 - accuracy: 0.8433 - val_loss: 0.4633 - val_accuracy: 0.8042 - 31ms/epoch - 2ms/step\n",
      "Epoch 27/50\n",
      "18/18 - 0s - loss: 0.3639 - accuracy: 0.8398 - val_loss: 0.4628 - val_accuracy: 0.8112 - 35ms/epoch - 2ms/step\n",
      "Epoch 28/50\n",
      "18/18 - 0s - loss: 0.3630 - accuracy: 0.8380 - val_loss: 0.4604 - val_accuracy: 0.8182 - 33ms/epoch - 2ms/step\n",
      "Epoch 29/50\n",
      "18/18 - 0s - loss: 0.3620 - accuracy: 0.8451 - val_loss: 0.4612 - val_accuracy: 0.8182 - 33ms/epoch - 2ms/step\n",
      "Epoch 30/50\n",
      "18/18 - 0s - loss: 0.3597 - accuracy: 0.8415 - val_loss: 0.4687 - val_accuracy: 0.8182 - 33ms/epoch - 2ms/step\n",
      "Epoch 31/50\n",
      "18/18 - 0s - loss: 0.3613 - accuracy: 0.8486 - val_loss: 0.4643 - val_accuracy: 0.8112 - 32ms/epoch - 2ms/step\n",
      "Epoch 32/50\n",
      "18/18 - 0s - loss: 0.3578 - accuracy: 0.8486 - val_loss: 0.4696 - val_accuracy: 0.8112 - 31ms/epoch - 2ms/step\n",
      "Epoch 33/50\n",
      "18/18 - 0s - loss: 0.3585 - accuracy: 0.8468 - val_loss: 0.4722 - val_accuracy: 0.8112 - 33ms/epoch - 2ms/step\n",
      "Epoch 34/50\n",
      "18/18 - 0s - loss: 0.3573 - accuracy: 0.8504 - val_loss: 0.4672 - val_accuracy: 0.8112 - 35ms/epoch - 2ms/step\n",
      "Epoch 35/50\n",
      "18/18 - 0s - loss: 0.3562 - accuracy: 0.8468 - val_loss: 0.4671 - val_accuracy: 0.8112 - 31ms/epoch - 2ms/step\n",
      "Epoch 36/50\n",
      "18/18 - 0s - loss: 0.3575 - accuracy: 0.8521 - val_loss: 0.4719 - val_accuracy: 0.8252 - 30ms/epoch - 2ms/step\n",
      "Epoch 37/50\n",
      "18/18 - 0s - loss: 0.3538 - accuracy: 0.8539 - val_loss: 0.4719 - val_accuracy: 0.8042 - 30ms/epoch - 2ms/step\n",
      "Epoch 38/50\n",
      "18/18 - 0s - loss: 0.3531 - accuracy: 0.8504 - val_loss: 0.4744 - val_accuracy: 0.8182 - 30ms/epoch - 2ms/step\n",
      "Epoch 39/50\n",
      "18/18 - 0s - loss: 0.3506 - accuracy: 0.8592 - val_loss: 0.4757 - val_accuracy: 0.8182 - 31ms/epoch - 2ms/step\n",
      "Epoch 40/50\n",
      "18/18 - 0s - loss: 0.3503 - accuracy: 0.8592 - val_loss: 0.4777 - val_accuracy: 0.8182 - 28ms/epoch - 2ms/step\n",
      "Epoch 41/50\n",
      "18/18 - 0s - loss: 0.3500 - accuracy: 0.8504 - val_loss: 0.4697 - val_accuracy: 0.8042 - 29ms/epoch - 2ms/step\n",
      "Epoch 42/50\n",
      "18/18 - 0s - loss: 0.3536 - accuracy: 0.8504 - val_loss: 0.4821 - val_accuracy: 0.8252 - 29ms/epoch - 2ms/step\n",
      "Epoch 43/50\n",
      "18/18 - 0s - loss: 0.3476 - accuracy: 0.8556 - val_loss: 0.4742 - val_accuracy: 0.8112 - 29ms/epoch - 2ms/step\n",
      "Epoch 44/50\n",
      "18/18 - 0s - loss: 0.3469 - accuracy: 0.8504 - val_loss: 0.4762 - val_accuracy: 0.8112 - 30ms/epoch - 2ms/step\n",
      "Epoch 45/50\n",
      "18/18 - 0s - loss: 0.3487 - accuracy: 0.8521 - val_loss: 0.4853 - val_accuracy: 0.8252 - 26ms/epoch - 1ms/step\n",
      "Epoch 46/50\n",
      "18/18 - 0s - loss: 0.3500 - accuracy: 0.8574 - val_loss: 0.4747 - val_accuracy: 0.8252 - 28ms/epoch - 2ms/step\n",
      "Epoch 47/50\n",
      "18/18 - 0s - loss: 0.3449 - accuracy: 0.8521 - val_loss: 0.4820 - val_accuracy: 0.8112 - 28ms/epoch - 2ms/step\n",
      "Epoch 48/50\n",
      "18/18 - 0s - loss: 0.3459 - accuracy: 0.8574 - val_loss: 0.4803 - val_accuracy: 0.8182 - 27ms/epoch - 2ms/step\n",
      "Epoch 49/50\n",
      "18/18 - 0s - loss: 0.3461 - accuracy: 0.8574 - val_loss: 0.4913 - val_accuracy: 0.8042 - 33ms/epoch - 2ms/step\n",
      "Epoch 50/50\n",
      "18/18 - 0s - loss: 0.3437 - accuracy: 0.8539 - val_loss: 0.4783 - val_accuracy: 0.8182 - 27ms/epoch - 1ms/step\n",
      "6/6 [==============================] - 0s 602us/step\n",
      "Neural Network Accuracy: 0.797752808988764\n"
     ]
    }
   ],
   "source": [
    "import pandas as pd\n",
    "from sklearn.model_selection import train_test_split\n",
    "from sklearn.preprocessing import StandardScaler\n",
    "from sklearn.metrics import accuracy_score\n",
    "from tensorflow import keras\n",
    "from tensorflow.keras import layers\n",
    "\n",
    "train_df = train_data.filter(regex='Survived|Age_.*|SibSp|Parch|Fare_.*|Embarked_.*|Sex_.*|Pclass_.*')\n",
    "print(train_data)\n",
    "train_np = train_df.values\n",
    "# 获取y\n",
    "y = train_np[:,0].astype('int')\n",
    "# 获取自变量x\n",
    "x = train_np[:,1:]\n",
    "print(x)\n",
    "\n",
    "# 划分训练集和测试集\n",
    "X_train, X_test, y_train, y_test = train_test_split(x, y, test_size=0.2, random_state=42)\n",
    "\n",
    "# 构建神经网络模型\n",
    "model = keras.Sequential([\n",
    "    layers.Dense(64, activation='relu', input_shape=(X_train.shape[1],)),\n",
    "    layers.Dense(32, activation='relu'),\n",
    "    layers.Dense(1, activation='sigmoid')\n",
    "])\n",
    "\n",
    "# 编译模型\n",
    "model.compile(optimizer='adam', loss='binary_crossentropy', metrics=['accuracy'])\n",
    "\n",
    "# 训练模型\n",
    "model.fit(X_train, y_train, epochs=50, batch_size=32, validation_split=0.2, verbose=2)\n",
    "\n",
    "# 在测试集上评估模型\n",
    "predictions = model.predict(X_test)\n",
    "predictions = (predictions > 0.5).astype(int)  # 将概率转换为二进制类别\n",
    "accuracy = accuracy_score(y_test, predictions)\n",
    "print(\"Neural Network Accuracy:\", accuracy)"
   ],
   "metadata": {
    "collapsed": false,
    "ExecuteTime": {
     "end_time": "2024-01-05T11:06:29.128468800Z",
     "start_time": "2024-01-05T11:06:26.459580300Z"
    }
   },
   "id": "78614071b6e5e174"
  },
  {
   "cell_type": "code",
   "execution_count": null,
   "outputs": [],
   "source": [],
   "metadata": {
    "collapsed": false,
    "ExecuteTime": {
     "start_time": "2024-01-05T10:55:53.483742900Z"
    }
   },
   "id": "41429d02646354c7"
  }
 ],
 "metadata": {
  "kernelspec": {
   "display_name": "Python 3",
   "language": "python",
   "name": "python3"
  },
  "language_info": {
   "codemirror_mode": {
    "name": "ipython",
    "version": 2
   },
   "file_extension": ".py",
   "mimetype": "text/x-python",
   "name": "python",
   "nbconvert_exporter": "python",
   "pygments_lexer": "ipython2",
   "version": "2.7.6"
  }
 },
 "nbformat": 4,
 "nbformat_minor": 5
}
